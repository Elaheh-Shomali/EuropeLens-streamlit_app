{
  "cells": [
    {
      "cell_type": "markdown",
      "metadata": {
        "id": "L3zvZpDCNZKY"
      },
      "source": [
        "# Rag chatbot\n",
        "In this notebook we will explored LLMs, chatbots, and RAG. Then, we put them all together to create a powerful tool: a RAG chain with memory.\n",
        "\n",
        "*Please note that we are working locally (using Jupyter in VS Code). However, some code snippets have been commented out for use in Google Colab, allowing you to learn and utilize them if needed.*"
      ]
    },
    {
      "cell_type": "markdown",
      "metadata": {
        "id": "vdtOR8UoNetd"
      },
      "source": [
        "---\n",
        "## 1.&nbsp; Installations and Settings 🛠️\n",
        "LangChain is a framework that simplifies the development of applications powered by large language models (LLMs). Here we install their HuggingFace package as we'll be using open source models from HuggingFace."
      ]
    },
    {
      "cell_type": "code",
      "execution_count": 26,
      "metadata": {
        "collapsed": true,
        "id": "0VL1vUgV5Gic"
      },
      "outputs": [],
      "source": [
        "#%pip install -qqq -U langchain-huggingface\n",
        "#%pip install -qqq -U langchain\n",
        "#%pip install -qqq -U langchain-community\n",
        "#%pip install -qqq -U faiss-cpu"
      ]
    },
    {
      "cell_type": "markdown",
      "metadata": {
        "id": "7EWy5hSlasqk"
      },
      "source": [
        "To use the LLMs, you'll need to create a HuggingFace access token for this project.\n",
        "1. Sign up for an account at [HuggingFace](https://huggingface.co/)\n",
        "2. Go in to your account and click `edit profile`\n",
        "3. Go to `Access Tokens` and create a `New Token`\n",
        "4. The `Type` of the new token should be set to `Read`\n",
        "\n",
        "We've then saved ours as a Colab secret - this way we can use it in multiple notebooks without having to type it or reveal it."
      ]
    },
    {
      "cell_type": "code",
      "execution_count": 27,
      "metadata": {
        "id": "0NhM5q285PLS"
      },
      "outputs": [],
      "source": [
        "#In Google Colab:\n",
        "#import os\n",
        "#from google.colab import userdata # we stored our access token as a colab secret\n",
        "\n",
        "# Set the token as an environ variable\n",
        "#os.environ[\"HUGGINGFACEHUB_API_TOKEN\"] = userdata.get('HF_TOKEN')"
      ]
    },
    {
      "cell_type": "code",
      "execution_count": 1,
      "metadata": {},
      "outputs": [],
      "source": [
        "# In VSCode:\n",
        "# Define the HF_TOKEN to be passed into the password in a .py file called HF_TOKEN.\n",
        "from My_HF_TOKEN import HF_TOKEN"
      ]
    },
    {
      "cell_type": "markdown",
      "metadata": {
        "id": "eOrl9sm8bKTV"
      },
      "source": [
        "---\n",
        "## 2.&nbsp; Setting up your LLM 🧠"
      ]
    },
    {
      "cell_type": "code",
      "execution_count": 2,
      "metadata": {
        "id": "9IGO1aSkbLRN"
      },
      "outputs": [],
      "source": [
        "from langchain_huggingface import HuggingFaceEndpoint\n",
        "\n",
        "# This info's at the top of each HuggingFace model page\n",
        "hf_model = \"mistralai/Mistral-7B-Instruct-v0.3\"\n",
        "\n",
        "llm = HuggingFaceEndpoint(repo_id = hf_model, huggingfacehub_api_token=HF_TOKEN)"
      ]
    },
    {
      "cell_type": "markdown",
      "metadata": {
        "id": "naluvYt5b4DO"
      },
      "source": [
        "---\n",
        "## 3.&nbsp; Retrieval Augmented Generation 🔃"
      ]
    },
    {
      "cell_type": "markdown",
      "metadata": {
        "id": "qzDhp8SBb4tY"
      },
      "source": [
        "### 3.1.&nbsp; Find your data\n",
        "Our model needs some information to work its magic! In this case, we'll be using Spain travel information in pdf format"
      ]
    },
    {
      "cell_type": "code",
      "execution_count": 29,
      "metadata": {
        "id": "pEGC0XOWcUFu"
      },
      "outputs": [],
      "source": [
        "#In Google Colab:\n",
        "#Find the data\n",
        "#file_path1 = (\n",
        "#    \"/content/Espana_General.pdf\"\n",
        "#)\n",
        "#file_path2 = (\n",
        "#    \"/content/Ultimate_Travel_Guide_Europe.pdf\"\n",
        "#)"
      ]
    },
    {
      "cell_type": "code",
      "execution_count": 5,
      "metadata": {},
      "outputs": [],
      "source": [
        "file_path1 = (\n",
        "    \"Espana_General.pdf\"\n",
        ")"
      ]
    },
    {
      "cell_type": "code",
      "execution_count": 6,
      "metadata": {},
      "outputs": [],
      "source": [
        "file_path2 = (\n",
        "    \"Ultimate_Travel_Guide_Europe.pdf\"\n",
        ")"
      ]
    },
    {
      "cell_type": "markdown",
      "metadata": {
        "id": "podYHW-Od4NC"
      },
      "source": [
        "### 3.2.&nbsp; Load the data"
      ]
    },
    {
      "cell_type": "code",
      "execution_count": 4,
      "metadata": {
        "id": "kOKk9-yLdKFB"
      },
      "outputs": [],
      "source": [
        "#%pip install -qU pypdf\n",
        "#%pip install fpdf"
      ]
    },
    {
      "cell_type": "code",
      "execution_count": 12,
      "metadata": {
        "id": "suy8XIfidGVf"
      },
      "outputs": [],
      "source": [
        "#Load the data\n",
        "from langchain_community.document_loaders import PyPDFLoader\n",
        "\n",
        "# List of file paths\n",
        "file_paths = [file_path1, file_path2]\n",
        "\n",
        "# Combined list of Document objects\n",
        "combined_pages = []\n",
        "\n",
        "# Asynchronous function to load pages from multiple PDFs\n",
        "async def load_pages_from_pdfs(file_paths):\n",
        "    for file_path in file_paths:\n",
        "        loader = PyPDFLoader(file_path)\n",
        "        async for page in loader.alazy_load():\n",
        "            combined_pages.append(page)\n",
        "\n",
        "# Call the function with the list of file paths\n",
        "await load_pages_from_pdfs(file_paths)\n",
        "\n",
        "# Now `combined_pages` contains Document objects from both PDFs"
      ]
    },
    {
      "cell_type": "code",
      "execution_count": 37,
      "metadata": {},
      "outputs": [
        {
          "name": "stdout",
          "output_type": "stream",
          "text": [
            "{'source': 'Espana_General.pdf', 'page': 1, 'page_label': '2'}\n",
            "\n",
            "CONTENTS\n",
            "Introduction 3\n",
            "What to do in Spain 5\n",
            " Art and culture\n",
            " Urban tourism\n",
            " Food\n",
            " Shopping\n",
            " Nature\n",
            " Beaches\n",
            " Sports and active tourism\n",
            " Festivals\n",
            "Practical information 38\n",
            " Requirements for entering \n",
            " Spain\n",
            " Means of transport\n",
            " Accommodation\n",
            " Times\n",
            " Climate\n",
            " Currency\n",
            "T ourist Offices and Embassies 43\n",
            "Ministry of Industry, Trade and T ourism\n",
            "Published by: © Turespaña\n",
            "Created by: Lionbridge\n",
            "NIPO: 086-17-054-7\n",
            "FREE COPY\n",
            "The content of this leaflet has been created with \n",
            "the utmost care. However, if you find an error, \n",
            "please help us to improve by sending an email to \n",
            "brochures@tourspain.es\n",
            "Cover: Historic Old T own of Ibiza\n",
            "Back cover: Road along the Corralejo dunes,\n",
            "Fuerteventura\n",
            "2\n",
            "LAS MÉDULAS\n",
            "EL BIERZO, LEÓN (CASTILE-LEÓN)\n"
          ]
        }
      ],
      "source": [
        "print(f\"{combined_pages[1].metadata}\\n\")\n",
        "print(combined_pages[1].page_content)"
      ]
    },
    {
      "cell_type": "code",
      "execution_count": 41,
      "metadata": {
        "colab": {
          "base_uri": "https://localhost:8080/"
        },
        "id": "uaLxLJ2MdYJg",
        "outputId": "695925a6-4c4c-4208-8e4e-e2eb6d06cf30"
      },
      "outputs": [
        {
          "name": "stdout",
          "output_type": "stream",
          "text": [
            "{'source': 'Ultimate-Travel-Guide-Europe.pdf', 'page': 16, 'page_label': '17'}\n",
            "\n",
            "Chapter 8: Cultural Etiquette and Language Tips \n",
            "Common Phrases: \n",
            "Learning a few common phrases in the local language can go a long way in making a positive \n",
            "impression and facilitating communication. Here are some essential phrases to know: \n",
            "• Greetings: Learn how to say \"hello,\" \"good morning,\" \"good evening,\" and \"goodbye.\" \n",
            "• Please and Thank You: Expressing gratitude and politeness is universal. Know how to \n",
            "say \"please\" and \"thank you.\" \n",
            "• Yes and No: Understand the words for \"yes\" and \"no\" to respond to questions. \n",
            "• Excuse Me and Sorry: Use \"excuse me\" when trying to get someone's attention and \n",
            "\"sorry\" when apologizing. \n",
            "• Numbers: Familiarize yourself with numbers to handle basic transactions and ask for \n",
            "quantities. \n",
            "Don’t forget to check out wanderinglewis.com for useful language links! \n",
            "Respectful Behaviour: \n",
            "Respecting local customs and traditions is essential when travelling. Here are some general tips: \n",
            "• Dress Modestly: In many countries, especially those with conservative cultures, dressing \n",
            "modestly is a sign of respect. Cover your shoulders, chest, and knees when visiting religious \n",
            "sites. Carrying a large scarf can be useful, it can be worn as a shawl or sarong if wearing less \n",
            "modest clothing. Doubles as a picnic blanket too! \n",
            "• Remove Shoes: In some cultures, it's customary to remove your shoes before entering \n",
            "someone's home. Follow the lead of your host or look for footwear outside the door. \n",
            "• Public Behaviour: Be mindful of your actions in public spaces. Avoid loud or disruptive \n",
            "behaviour and adhere to local rules and regulations. \n",
            "• Religious Sites: When visiting religious sites, follow any dress code and behave \n",
            "respectfully. Speak quietly, remove your headgear if required, and don't interrupt ongoing \n",
            "ceremonies or prayers. \n",
            "• Bargaining: Bargaining is common in many markets but do it respectfully. Be polite and \n",
            "don't push too hard for lower prices if it's not the local norm. \n",
            "• Photography: Ask for permission before taking photos of people, especially in rural or \n",
            "traditional settings. Some places may prohibit photography altogether. Some places also expect \n",
            "you to pay additional to take photos so double check signage. \n",
            "• Tipping: Understand tipping customs in each country. In some places, it's customary to \n",
            "tip generously, while in others, tipping may not be expected. \n",
            "Local Etiquette: \n",
            "Every country has its unique customs and etiquette. It's essential to research and adapt to local \n",
            "norms. Here are some aspects of local etiquette to consider: \n",
            "• Greetings: Different cultures have various ways of greeting. In some places, a handshake \n",
            "is common, while in others, people may bow or kiss on the cheek as a traditional greeting. \n",
            "• Eating Etiquette: Learn how to use utensils correctly and understand table manners. In \n",
            "some cultures, eating with your hands is customary. \n"
          ]
        }
      ],
      "source": [
        "print(f\"{combined_pages[60].metadata}\\n\")\n",
        "print(combined_pages[60].page_content)"
      ]
    },
    {
      "cell_type": "markdown",
      "metadata": {
        "id": "Mev6YHfkd-1E"
      },
      "source": [
        "### 3.3.&nbsp; Splitting the document"
      ]
    },
    {
      "cell_type": "code",
      "execution_count": 42,
      "metadata": {
        "id": "30jYSUFeeBpn"
      },
      "outputs": [],
      "source": [
        "from langchain.text_splitter import RecursiveCharacterTextSplitter\n",
        "\n",
        "text_splitter = RecursiveCharacterTextSplitter(chunk_size=800,\n",
        "                                               chunk_overlap=150)\n",
        "\n",
        "docs_combined = text_splitter.split_documents(combined_pages)"
      ]
    },
    {
      "cell_type": "markdown",
      "metadata": {
        "id": "qT8ceLKseNWN"
      },
      "source": [
        "### 3.4.&nbsp; Creating vectors with embeddings"
      ]
    },
    {
      "cell_type": "code",
      "execution_count": 43,
      "metadata": {
        "id": "Lnt_MzKLeQX3"
      },
      "outputs": [],
      "source": [
        "from langchain_huggingface import HuggingFaceEmbeddings\n",
        "\n",
        "# embeddings\n",
        "embedding_model = \"sentence-transformers/all-MiniLM-l6-v2\"\n",
        "embeddings_folder = \"/content/\"\n",
        "\n",
        "embeddings = HuggingFaceEmbeddings(model_name=embedding_model,\n",
        "                                   cache_folder=embeddings_folder)"
      ]
    },
    {
      "cell_type": "code",
      "execution_count": null,
      "metadata": {
        "colab": {
          "base_uri": "https://localhost:8080/"
        },
        "id": "2CIjlJCDrve9",
        "outputId": "53d8a6c6-a0c3-4773-97fd-fe9742ba2b9e"
      },
      "outputs": [],
      "source": [
        "#In Google Colab:\n",
        "#from google.colab import drive\n",
        "#drive.mount('/content/drive')"
      ]
    },
    {
      "cell_type": "markdown",
      "metadata": {
        "id": "buzPBp_qeeFz"
      },
      "source": [
        "### 3.5.&nbsp; Creating a vector database"
      ]
    },
    {
      "cell_type": "code",
      "execution_count": 44,
      "metadata": {
        "id": "6a3BFnmKejsu"
      },
      "outputs": [],
      "source": [
        "from langchain.vectorstores import FAISS\n",
        "\n",
        "vector_db_combined = FAISS.from_documents(docs_combined, embeddings)"
      ]
    },
    {
      "cell_type": "code",
      "execution_count": 45,
      "metadata": {
        "id": "9vbdFDYMfc_s"
      },
      "outputs": [],
      "source": [
        "vector_db_combined.save_local(\"/content/faiss_index_combined\")"
      ]
    },
    {
      "cell_type": "code",
      "execution_count": 22,
      "metadata": {
        "colab": {
          "base_uri": "https://localhost:8080/",
          "height": 159
        },
        "collapsed": true,
        "id": "0r7hWVjss7if",
        "outputId": "b684dc4c-07cb-4fba-88cd-263a6787a862"
      },
      "outputs": [],
      "source": [
        "#In Google Colab:\n",
        "#vector_db(\"/content/drive/MyDrive/GenAI-Faiss/vector_db\", index=False) #save to your drive /My Drive"
      ]
    },
    {
      "cell_type": "code",
      "execution_count": null,
      "metadata": {},
      "outputs": [],
      "source": [
        "#In Google Colab:\n",
        "#To upload the \"faiss_index_Espana\" vectors:\n",
        "#import gdown\n",
        "\n",
        "#url = \"https://drive.google.com/drive/folders/12mXVxNgARZFVW1b3A9ejrKXaVZVsnQIB?usp=sharing\"\n",
        "#gdown.download_folder(url, quiet=False)"
      ]
    },
    {
      "cell_type": "code",
      "execution_count": 46,
      "metadata": {
        "colab": {
          "base_uri": "https://localhost:8080/"
        },
        "id": "9EB8d_WDhFuP",
        "outputId": "1164c7c2-d7b6-4a6c-9ecc-cc75017f661d"
      },
      "outputs": [
        {
          "data": {
            "text/plain": [
              "[Document(id='fd2d4ad4-6dcf-4787-ba32-fa8eb0383b1f', metadata={'source': 'Espana_General.pdf', 'page': 20, 'page_label': '21'}, page_content=\"21\\nTRADITIONAL CUISINE\\nIn addition to the famous paella and the \\npotato omelette, each region in Spain \\nhas a wide variety of irresistible tradi -\\ntional dishes. Everything from hearty \\nbean stews like cocido madrileño  and \\nfabada asturiana, perfect for chilly days, \\nthrough to seasonal vegetables and the \\ndelicious deserts and sweets produced \\nin each region ( filloas in Galicia, cre-\\nma catalana in Catalonia, ensaimada \\nin Mallorca, and much more). Try the \\nseafood from Spain's seas and rivers \\nprepared in a wide variety of ways, and \\nthe shellfish, which is a highly prized \\ningredient in the Spanish gastronomic \\nrepertoire. And surrender to tempta -\\ntion with the delicious ibérico cured \\nham, one of the greatest treasures in \\nthe Spanish\\xa0larder.\\nAVANT-GARDE CUISINE\"),\n",
              " Document(id='ecd13df5-81d4-42f6-93d2-0e92ca1ceaf4', metadata={'source': 'Espana_General.pdf', 'page': 19, 'page_label': '20'}, page_content=\"SPAIN\\n20\\nFOOD\\nSpanish cuisine is famous all over the \\nworld. In Spain's bars and restaurants \\nyou can try everything from  tradi-\\ntional recipes like paella, to surprising \\ndishes from haute cuisine. Organic cui-\\nsine, based on a model of sustainable \\nproduction, is gaining popularity both \\nin the home and on restaurant menus. \\nTry an original way of sampling quality \\nSpanish cuisine and make for an urban \\nmarket. Many of these spaces have a \\nhistory going back decades and have \\nreinvented themselves to offer unique \\ngastronomic experiences. Stroll \\naround the San Miguel market in Ma-\\ndrid, the Boquería market in Barcelona \\nor the Central Market in Valencia, and \\nyou can enjoy a glass of wine while you \\nsample a canapé or a gourmet tapa, lis-\\nten to live music and mingle with the\"),\n",
              " Document(id='86647ba7-915d-4294-a5c0-ed6be870f3d8', metadata={'source': 'Espana_General.pdf', 'page': 0, 'page_label': '1'}, page_content='www.spain.info\\nSpain'),\n",
              " Document(id='dbb1c2c4-2888-44d1-aedc-26d658fadccc', metadata={'source': 'Espana_General.pdf', 'page': 21, 'page_label': '22'}, page_content=\"22\\nTHE MEDITERRANEAN DIET\\nThe Spanish diet is varied, tasty and \\ngood for the health. More than just a \\nhealthy diet , it's a way of life  that fo -\\ncuses on traditionally prepared ingredi-\\nents, eating with friends and family, re -\\nspecting the land and biodiversity, and \\npreserving traditional fishing and farm -\\ning activities. Try the wide variety of vir-\\ngin olive oils, one of its key ingredients.\\nWINE TOURISM\\nIf you want to discover the exciting \\nworld of wine, the best idea is to take \\na wine route. You can visit ancient or \\navant-garde wineries, sleep in the vine -\\nyards and discover the secrets of pair -\\ning wine and food with the help of ex -\\npert sommeliers. These excursions are \\nideal for lovers of gastronomic tourism.\\nIn La Rioja, the land of one of the most\")]"
            ]
          },
          "execution_count": 46,
          "metadata": {},
          "output_type": "execute_result"
        }
      ],
      "source": [
        "vector_db_combined.similarity_search(\"What is the most delicious food in Spain?\")"
      ]
    },
    {
      "cell_type": "code",
      "execution_count": 48,
      "metadata": {},
      "outputs": [
        {
          "data": {
            "text/plain": [
              "[Document(id='6cd0b146-7671-44e4-889f-7f563b9daf9a', metadata={'source': 'Ultimate-Travel-Guide-Europe.pdf', 'page': 7, 'page_label': '8'}, page_content='Chapter 2: Navigating Europe\\'s Top Destinations \\nMust-Visit Cities \\n• Rome, Italy \\nRome, often referred to as the \"Eternal City,\" is a destination that seamlessly blends history, \\nculture, and culinary delights. It\\'s a city where ancient ruins such as the Colosseum and the \\nRoman Forum stand in stark contrast to the vibrant street life of the present day. Explore the \\nVatican City, home to St. Peter\\'s Basilica and the Sistine Chapel, adorned with Michelangelo\\'s \\nmasterpiece. Don\\'t miss a leisurely stroll through the charming neighbourhoods of Trastevere \\nand Monti, where you can savour authentic Italian cuisine and gelato. Rome is a city that invites \\nyou to wander in awe, discovering centuries of history at every turn. \\n• Bucuresti (Bucharest), Romania'),\n",
              " Document(id='c1af1061-4aab-4c07-a901-e03277734836', metadata={'source': 'Ultimate-Travel-Guide-Europe.pdf', 'page': 11, 'page_label': '12'}, page_content=\"• Historic Sites: Explore historic sites and architecture by taking walking tours or simply \\nwandering through charming neighbourhoods. European cities are known for their beautiful \\nsquares, churches, and monuments, many of which are free to admire from the outside. \\nRemember to look up, many architectural gems can be found on the underside of balconies or \\nthe corners of buildings! \\n• Parks and Gardens: Enjoy the natural beauty of Europe by visiting public parks and \\ngardens. Iconic spots like London's Hyde Park or the Luxembourg Gardens in Paris are open to \\nthe public at no cost. \\n• Street Performances: Keep an eye out for street performances, especially in bustling city \\ncentres. Street musicians, artists, and entertainers often provide free and captivating \\nentertainment.\"),\n",
              " Document(id='2bc1af3b-49b3-4754-8e8c-5d8344848787', metadata={'source': 'Ultimate-Travel-Guide-Europe.pdf', 'page': 11, 'page_label': '12'}, page_content=\"Chapter 5: Savvy Saving Strategies for Travelling Europe \\nTravelling through Europe on a budget doesn't mean missing out on memorable experiences. \\nWith these savvy saving strategies, you can explore Europe's rich culture, history, and culinary \\ndelights while staying within your budget. Remember to plan ahead, seek out local experiences, \\nand make the most of the cost-effective options available in each destination: \\nFree & Low-Cost Attractions: \\n• Museums and Galleries: Many museums and galleries in Europe offer free admission on \\ncertain days or during specific hours. Do your research and plan your visits accordingly. For \\nexample, the Louvre in Paris is free on the first Sunday of each month. \\n• Historic Sites: Explore historic sites and architecture by taking walking tours or simply\"),\n",
              " Document(id='ff2c140a-ea79-492c-b49b-875321b26ab3', metadata={'source': 'Espana_General.pdf', 'page': 2, 'page_label': '3'}, page_content='ancient history . From the archaeo -\\nlogical sites at Atapuerca in Burgos to \\nthe Alhambra in Granada. Spain is the \\ncountry with the fifth largest number of \\nUNESCO World Heritage sites.')]"
            ]
          },
          "execution_count": 48,
          "metadata": {},
          "output_type": "execute_result"
        }
      ],
      "source": [
        "vector_db_combined.similarity_search(\"Name 3 of the most famous country in Europe?\")"
      ]
    },
    {
      "cell_type": "markdown",
      "metadata": {
        "id": "gpbbZ6PqNm5M"
      },
      "source": [
        "---\n",
        "## 4.&nbsp; Setting up the chain 🔗\n",
        "There are three cooperating pieces here to work with:\n",
        "- `create_history_aware_retriever` chains together an llm, retriever, and prompt. It is similar to `RetrievalQA`.\n",
        "- `create_stuff_documents_chain` again calls on your llm and prompt to respond conversationally to you in a retrieval context.\n",
        "- `create_retrieval_chain` chains the other two pieces together.\n",
        "\n",
        "Notice that this time, `chat_history` is allowed to be a simple list, rather than a class with methods to manipulate the history.\n",
        "\n",
        "Finally, when invoking our RAG chatbot, it is important for the call to reference the chat history explicitly."
      ]
    },
    {
      "cell_type": "code",
      "execution_count": 49,
      "metadata": {
        "id": "EgUg_PtF9i2P"
      },
      "outputs": [],
      "source": [
        "from langchain_huggingface import HuggingFaceEndpoint, HuggingFaceEmbeddings\n",
        "from langchain.vectorstores import FAISS\n",
        "from langchain_core.prompts import ChatPromptTemplate, MessagesPlaceholder\n",
        "from langchain.chains import create_history_aware_retriever\n",
        "from langchain.chains.retrieval import create_retrieval_chain\n",
        "from langchain.chains.combine_documents.stuff import create_stuff_documents_chain\n",
        "\n",
        "#Setting up your LLM:\n",
        "# hf_model = \"mistralai/Mistral-7B-Instruct-v0.3\"\n",
        "# llm = HuggingFaceEndpoint(repo_id=hf_model)\n",
        "\n",
        "#Creating vectors with embeddings:\n",
        "# embedding_model = \"sentence-transformers/all-MiniLM-l6-v2\"\n",
        "# embeddings_folder = \"/content/\"\n",
        "\n",
        "# embeddings = HuggingFaceEmbeddings(model_name=embedding_model,\n",
        "#                                   cache_folder=embeddings_folder)\n",
        "\n",
        "vector_db = FAISS.load_local(\"/content/faiss_index_combined\", embeddings, allow_dangerous_deserialization=True)\n",
        "\n",
        "retriever = vector_db.as_retriever(search_kwargs={\"k\": 2}) # top 2 results only, speed things up\n",
        "\n",
        "#Adding a prompt:\n",
        "#We can guide our model's behavior with a prompt, similar to how we gave instructions to the chatbot.\n",
        "template = \"\"\"You are a nice chatbot having a conversation with a human. Answer the question based only on the following context and previous conversation. Keep your answers short and succinct.\n",
        "\n",
        "Previous conversation:\n",
        "{chat_history}\n",
        "\n",
        "Context to answer question:\n",
        "{context}\n",
        "\n",
        "New human question: {input}\n",
        "Response:\"\"\"\n",
        "\n",
        "chat_history = []\n",
        "\n",
        "prompt = ChatPromptTemplate.from_messages([\n",
        "    (\"system\", template),\n",
        "    MessagesPlaceholder(variable_name=\"chat_history\"),\n",
        "    (\"human\", \"{input}\"),\n",
        "])\n",
        "\n",
        "doc_retriever = create_history_aware_retriever(\n",
        "    llm, retriever, prompt\n",
        ")\n",
        "\n",
        "doc_chain = create_stuff_documents_chain(llm, prompt)\n",
        "\n",
        "rag_bot = create_retrieval_chain(\n",
        "    doc_retriever, doc_chain\n",
        ")"
      ]
    },
    {
      "cell_type": "code",
      "execution_count": 50,
      "metadata": {
        "id": "yx8TdaSE7A-Q"
      },
      "outputs": [],
      "source": [
        "ans = rag_bot.invoke({\"input\":\"What can I eat in Spain?\", \"chat_history\": chat_history, \"context\": retriever})\n",
        "chat_history.extend([{\"role\": \"human\", \"content\": ans[\"input\"]},{\"role\": \"assistant\", \"content\":ans[\"answer\"]}])"
      ]
    },
    {
      "cell_type": "code",
      "execution_count": 51,
      "metadata": {
        "colab": {
          "base_uri": "https://localhost:8080/"
        },
        "id": "9GeVpNwVGzYf",
        "outputId": "91884b44-3286-4430-aaf6-f4575d0f70ab"
      },
      "outputs": [
        {
          "name": "stdout",
          "output_type": "stream",
          "text": [
            "\n",
            "Assistant: You can try traditional dishes like paella, potato omelette, cocido madrileño, fabada asturiana, and regional sweets. Also, seafood, shellfish, and ibérico cured ham. For a healthy option, consider the Mediterranean diet with its variety of ingredients and virgin olive oils. For wine lovers, a wine route can offer a unique gastronomic experience.\n"
          ]
        }
      ],
      "source": [
        "print(ans['answer'])"
      ]
    },
    {
      "cell_type": "code",
      "execution_count": 52,
      "metadata": {
        "colab": {
          "base_uri": "https://localhost:8080/"
        },
        "id": "sGcQUpS-kX7i",
        "outputId": "4c724799-be51-487a-930e-9d666980706d"
      },
      "outputs": [
        {
          "name": "stdout",
          "output_type": "stream",
          "text": [
            "\n",
            "AI: Spain, Italy, and France.\n"
          ]
        }
      ],
      "source": [
        "ans = rag_bot.invoke({\"input\": \"Name 3 of the most famous country in Europe?\", \"chat_history\": chat_history, \"context\": retriever})\n",
        "chat_history.extend([{\"role\": \"human\", \"content\": ans[\"input\"]},{\"role\": \"assistant\", \"content\":ans[\"answer\"]}])\n",
        "print(ans[\"answer\"])"
      ]
    },
    {
      "cell_type": "markdown",
      "metadata": {
        "id": "zJrbGtxlN6D-"
      },
      "source": [
        "We can also use a while loop here to make our chatbot a little more interactive."
      ]
    },
    {
      "cell_type": "code",
      "execution_count": 53,
      "metadata": {
        "colab": {
          "base_uri": "https://localhost:8080/"
        },
        "id": "wbEkRZrt8AHN",
        "outputId": "f38e5edf-3645-47a6-d15f-5802a041bfda"
      },
      "outputs": [
        {
          "name": "stdout",
          "output_type": "stream",
          "text": [
            "\n",
            "Assistant: Italy is located in the southern part of Europe, with the Mediterranean Sea to its south.\n",
            "\n",
            "AI: The currency in Europe varies by country, but many European Union countries use the euro.\n",
            "\n",
            "AI:\n",
            "AI: The European Union (EU) is a political and economic union of 27 member states. As of 2023, the EU member countries are:\n",
            "\n",
            "1. Austria\n",
            "2. Belgium\n",
            "3. Bulgaria\n",
            "4. Croatia\n",
            "5. Republic of Cyprus\n",
            "6. Czech Republic\n",
            "7. Denmark\n",
            "8. Estonia\n",
            "9. Finland\n",
            "10. France\n",
            "11. Germany\n",
            "12. Greece\n",
            "13. Hungary\n",
            "14. Ireland\n",
            "15. Italy\n",
            "16. Latvia\n",
            "17. Lithuania\n",
            "18. Luxembourg\n",
            "19. Malta\n",
            "20. Netherlands\n",
            "21. Poland\n",
            "22. Portugal\n",
            "23. Romania\n",
            "24. Slovakia\n",
            "25. Slovenia\n",
            "26. Spain\n",
            "27. Sweden\n",
            "\n",
            "This list may change in the future as new countries may join the European Union.\n",
            "\n",
            "AI: Rome, Italy is one of the most touristic places in Europe, often referred to as the \"Eternal City.\" It's a destination that seamlessly blends history, culture, and culinary delights. It's a city where ancient ruins such as the Colosseum and the Roman Forum stand in stark contrast to the vibrant street life of the present day. Explore the Vatican City, home to St. Peter's Basilica and the Sistine Chapel, adorned with Michelangelo's masterpiece. Don't miss a leisurely stroll through the charming neighbourhoods of Trastevere and Monti, where you can savour authentic Italian cuisine and gelato. Rome is a city that invites you to wander in awe, discovering centuries of history at every turn.\n",
            "\n",
            "AI: The weather in Italy is influenced by its Mediterranean location. Expect warm, dry summers and mild, wet winters. The climate varies across the country, with the north having a more temperate climate, and the south having a hotter and drier climate.\n",
            "\n",
            "Reference(s):\n",
            "Chapter 2: Navigating Europe's Top Destinations  -  Must-Visit Cities  -  Rome, Italy\n",
            "https://www.europarl.europa.eu/regions-cities/en/member-regions-cities/list\n",
            "\n",
            "AI: To answer your question, I would need to provide information about the cost of living and travel expenses in each European country. Unfortunately, I don't have that data readily available. I recommend researching travel budgets for the countries you're interested in visiting and comparing costs to find the most budget-friendly destination for you. Keep in mind that factors like accommodation, food, and activities can greatly affect the overall cost of a trip. Happy travels!\n",
            "Ending the conversation. Goodbye!\n"
          ]
        }
      ],
      "source": [
        "chain_2 = create_retrieval_chain(\n",
        "    doc_retriever, doc_chain\n",
        ")\n",
        "history = []\n",
        "# Start the conversation loop\n",
        "while True:\n",
        "  user_input = input(\"You: \")\n",
        "\n",
        "  # Check for exit condition\n",
        "  if user_input.lower() == 'end':\n",
        "      print(\"Ending the conversation. Goodbye!\")\n",
        "      break\n",
        "\n",
        "  # Get the response from the conversation chain\n",
        "  response = chain_2.invoke({\"input\":user_input, \"chat_history\": history, \"context\": retriever})\n",
        "  history.extend([{\"role\": \"human\", \"content\": response[\"input\"]},{\"role\": \"assistant\", \"content\":response[\"answer\"]}])\n",
        "  # Print the chatbot's response\n",
        "  print(response[\"answer\"])"
      ]
    },
    {
      "cell_type": "markdown",
      "metadata": {
        "id": "8rYjPn2_oqay"
      },
      "source": [
        "---\n",
        "## 5.&nbsp; Streamlit\n",
        "Streamlit lets you transform your data scripts into interactive dashboards and prototypes in minutes, without needing front-end coding knowledge."
      ]
    },
    {
      "cell_type": "markdown",
      "metadata": {
        "id": "5M0e9HZ9pAba"
      },
      "source": [
        "We first need to install [streamlit](https://streamlit.io/) - as always, locally this is a one time thing, whereas on colab we need to do it each session."
      ]
    },
    {
      "cell_type": "code",
      "execution_count": 30,
      "metadata": {
        "id": "9SFxJ1s-ot7m"
      },
      "outputs": [],
      "source": [
        "#%pip install -q streamlit"
      ]
    },
    {
      "cell_type": "markdown",
      "metadata": {
        "id": "a5uIWIFepFZ-"
      },
      "source": [
        "To run Streamlit on Colab, we'll have to set up a tunnel. If you're working locally, you can skip this step.     \n",
        "Modified from [Source](https://colab.research.google.com/gist/thapecroth/67a69d840010ffcfe7523655808c5b92/streamlit-on-colab.ipynb)."
      ]
    },
    {
      "cell_type": "code",
      "execution_count": 32,
      "metadata": {
        "id": "NuY6y-yFpGFB"
      },
      "outputs": [],
      "source": [
        "#In Google Colab:\n",
        "# code necessary for Colab only:\n",
        "\n",
        "# import os\n",
        "# import time\n",
        "# from IPython.display import display, HTML\n",
        "# def tunnel_prep():\n",
        "#     for f in ('cloudflared-linux-amd64', 'logs.txt', 'nohup.out'):\n",
        "#         try:\n",
        "#             os.remove(f'/content/{f}')\n",
        "#             print(f\"Deleted {f}\")\n",
        "#         except FileNotFoundError:\n",
        "#             continue\n",
        "\n",
        "#     !wget https://github.com/cloudflare/cloudflared/releases/latest/download/cloudflared-linux-amd64 -q\n",
        "#     !chmod +x cloudflared-linux-amd64\n",
        "#     !nohup /content/cloudflared-linux-amd64 tunnel --url http://localhost:8501 &\n",
        "#     url = \"\"\n",
        "#     while not url:\n",
        "#         time.sleep(1)\n",
        "#         result = !grep -o 'https://.*\\.trycloudflare.com' nohup.out | head -n 1\n",
        "#         if result:\n",
        "#             url = result[0]\n",
        "#     return display(HTML(f'Your tunnel URL <a href=\"{url}\" target=\"_blank\">{url}</a>'))"
      ]
    },
    {
      "cell_type": "markdown",
      "metadata": {
        "id": "yeHoOQKJp0Ab"
      },
      "source": [
        "Here's an example of what you can produce with streamlit. It's so easy, just a few lines of python depending on what you want, and so many options!\n",
        "\n",
        "- Locally you would write this script in a .py file and not a notebook (.ipynb).\n",
        "\n",
        "- On colab, we can create a .py file by using the magic command `%%writefile` at the top of the cell. This command writes the cell content to a file, naming it 'app.py', or whatever else you choose, in this instance. Once saved, you can see 'app.py' in Colab's storage by clicking on the left-hand side folder icon."
      ]
    },
    {
      "cell_type": "markdown",
      "metadata": {
        "id": "sRTK5llwtbYm"
      },
      "source": [
        "---\n",
        "## 6.&nbsp; RAG chatbot in streamlit ⭐️"
      ]
    },
    {
      "cell_type": "markdown",
      "metadata": {
        "id": "FQK7-nQeulcZ"
      },
      "source": [
        "Now, let's proceed by creating the .py file for our rag chatbot.\n",
        "\n",
        "We sourced the foundational code for our Streamlit basic chatbot from the [Streamlit documentation](https://docs.streamlit.io/knowledge-base/tutorials/build-conversational-apps).\n",
        "\n",
        "In addition, we implemented [cache_resource](https://docs.streamlit.io/library/api-reference/performance/st.cache_resource) for both memory and LLM. Given that Streamlit reruns the entire script with each message input, relying solely on memory would result in data overwriting and a loss of conversational continuity. The inclusion of cache resource prevents Streamlit from creating a new memory instance on each run. This was also added to the LLM, enhancing speed and preventing its reload in every iteration."
      ]
    },
    {
      "cell_type": "code",
      "execution_count": null,
      "metadata": {},
      "outputs": [],
      "source": [
        "#In Google Colab:\n",
        "#%%writefile rag_app.py\n",
        "\n",
        "#Local: This part should run in .py format.\n",
        "\n",
        "from langchain_huggingface import HuggingFaceEndpoint, HuggingFaceEmbeddings\n",
        "from langchain.vectorstores import FAISS\n",
        "from langchain_core.prompts import ChatPromptTemplate, MessagesPlaceholder\n",
        "from langchain.chains import create_history_aware_retriever\n",
        "from langchain.chains.retrieval import create_retrieval_chain\n",
        "from langchain.chains.combine_documents.stuff import create_stuff_documents_chain\n",
        "import streamlit as st\n",
        "\n",
        "# llm\n",
        "hf_model = \"mistralai/Mistral-7B-Instruct-v0.3\"\n",
        "llm = HuggingFaceEndpoint(repo_id=hf_model)\n",
        "\n",
        "# embeddings\n",
        "embedding_model = \"sentence-transformers/all-MiniLM-l6-v2\"\n",
        "embeddings_folder = \"/content/\"\n",
        "\n",
        "embeddings = HuggingFaceEmbeddings(model_name=embedding_model,\n",
        "                                   cache_folder=embeddings_folder)\n",
        "\n",
        "# load Vector Database\n",
        "# allow_dangerous_deserialization is needed. Pickle files can be modified to deliver a malicious payload that results in execution of arbitrary code on your machine\n",
        "vector_db_combined = FAISS.load_local(\"/content/faiss_index_combined\", embeddings, allow_dangerous_deserialization=True)\n",
        "\n",
        "# retriever\n",
        "retriever = vector_db_combined.as_retriever(search_kwargs={\"k\": 2})\n",
        "\n",
        "# prompt: You are a professional chatbot having a conversation with a human. Answer the question based only on the following context and previous conversation. Keep your answers short and succinct.\n",
        "template = \"\"\"You are an AI chatbot. Answer the user's questions politely, accurately, and succinctly. Avoid repeating the same response unnecessarily.\n",
        "\n",
        "Previous conversation:\n",
        "{chat_history}\n",
        "\n",
        "chat_history = chat_history[-10:]  # Keep only the last 10 exchanges\n",
        "\n",
        "Context to answer question:\n",
        "{context}\n",
        "\n",
        "New human question: {input}\n",
        "Response:\"\"\"\n",
        "\n",
        "prompt = ChatPromptTemplate.from_messages([\n",
        "    (\"system\", template),\n",
        "    MessagesPlaceholder(variable_name=\"chat_history\"),\n",
        "    (\"human\", \"{input}\"),\n",
        "])\n",
        "\n",
        "# bot with memory\n",
        "@st.cache_resource\n",
        "def init_bot():\n",
        "    doc_retriever = create_history_aware_retriever(llm, retriever, prompt)\n",
        "    doc_chain = create_stuff_documents_chain(llm, prompt)\n",
        "    return create_retrieval_chain(doc_retriever, doc_chain)\n",
        "\n",
        "rag_bot = init_bot()\n",
        "\n",
        "\n",
        "##### streamlit #####\n",
        "\n",
        "st.title(\"EuropeLens\")\n",
        "\n",
        "# Markdown\n",
        "st.markdown(\"\"\"\n",
        "Welcome to EuropeLens! 🌟\n",
        "\n",
        "Ask me anything about Europe, and I’ll bring you the answers—culture, history, travel tips, and more!\n",
        "\n",
        "\"\"\")\n",
        "\n",
        "# Adding an image to the main page\n",
        "st.image(\n",
        "    \"Photo/europa.png\",\n",
        "    use_container_width=True\n",
        ")\n",
        "\n",
        "# CSS to change the background color: #c1f0c1 #f5f5f5 #e0e0e0 #d6d6d6\n",
        "# Apply custom CSS for colored expanders\n",
        "\n",
        "st.markdown(\"\"\"\n",
        "    <style>\n",
        "    /* Set the background color for the entire app */\n",
        "    body {\n",
        "        background-color: #E0D0FF;  /* Replace with your desired color */\n",
        "        color: #333333;  /* Set default text color */\n",
        "    }\n",
        "\n",
        "    /* Customize the Streamlit header */\n",
        "    .css-18e3th9 {\n",
        "        font-size: 36px;\n",
        "        color: #2a2a2a;  /* Set a dark color for the header text */\n",
        "    }\n",
        "\n",
        "    /* Customize buttons */\n",
        "    .stButton button {\n",
        "        background-color: #ffa500;  /* Set button background color */\n",
        "        color: white;  /* Set button text color */\n",
        "        border-radius: 5px;\n",
        "        padding: 10px 20px;\n",
        "        font-size: 16px;\n",
        "    }\n",
        "\n",
        "    /* Customize the expander header */\n",
        "    .streamlit-expanderHeader {\n",
        "        background-color: #ffa500;\n",
        "        color: white;\n",
        "        padding: 8px;\n",
        "        border-radius: 5px;\n",
        "        margin-bottom: 5px;\n",
        "    }\n",
        "\n",
        "    </style>\n",
        "    \"\"\", unsafe_allow_html=True)\n",
        "\n",
        "# City Information with Expanders\n",
        "\n",
        "col1, col2, col3 = st.columns(3)\n",
        "\n",
        "with col1:\n",
        "    with st.expander(\"Madrid\"):\n",
        "        st.write(\"\"\"\n",
        "        - **Population**: ~3.3 million\n",
        "        - **Highlights**: Prado Museum, Royal Palace, and Retiro Park\n",
        "        - **Known For**: Being Spain's capital, its rich art scene, and lively nightlife.\n",
        "        \"\"\")\n",
        "\n",
        "with col2:\n",
        "    with st.expander(\"Rome\"):\n",
        "        st.write(\"\"\"\n",
        "        - **Population**: ~2.8 million\n",
        "        - **Highlights**: Colosseum, Vatican City, Pantheon, and Roman Forum\n",
        "        - **Known For**: Ancient history, Vatican City, and iconic landmarks like the Colosseum and St. Peter's Basilica.\n",
        "        \"\"\")\n",
        "\n",
        "with col3:\n",
        "    with st.expander(\"Paris\"):\n",
        "        st.write(\"\"\"\n",
        "        - **Population**: ~2.1 million\n",
        "        - **Highlights**: Eiffel Tower, Louvre Museum, Notre-Dame Cathedral, and Montmartre\n",
        "        - **Known For**: The city of romance, world-class art, haute couture fashion, and culinary delights.\n",
        "        \"\"\")\n",
        "\n",
        "# Second row of columns\n",
        "col4, col5, col6 = st.columns(3)\n",
        "\n",
        "with col4:\n",
        "    with st.expander(\"London\"):\n",
        "        st.write(\"\"\"\n",
        "        - **Population**: ~8.9 million\n",
        "        - **Highlights**: Buckingham Palace, Tower of London, British Museum, and the London Eye\n",
        "        - **Known For**: Its history, iconic landmarks like Big Ben, and being a global hub for culture and finance.\n",
        "        \"\"\")\n",
        "\n",
        "with col5:\n",
        "    with st.expander(\"Berlin\"):\n",
        "        st.write(\"\"\"\n",
        "        - **Population**: ~3.7 million\n",
        "        - **Highlights**: Brandenburg Gate, Berlin Wall, Museum Island, and Alexanderplatz\n",
        "        - **Known For**: A history shaped by division, vibrant art scene, and an iconic nightlife culture.\n",
        "        \"\"\")\n",
        "\n",
        "with col6:\n",
        "    with st.expander(\"Lisbon\"):\n",
        "        st.write(\"\"\"\n",
        "        - **Population**: ~0.5 million\n",
        "        - **Highlights**: Belém Tower, Jerónimos Monastery, Alfama district, and São Jorge Castle\n",
        "        - **Known For**: Stunning views, historic trams, and vibrant Fado music.\n",
        "        \"\"\")\n",
        "      \n",
        "# Map\n",
        "map_data = [\n",
        "    {\"name\": \"Paris\", \"lat\": 48.856613, \"lon\": 2.352222},\n",
        "    {\"name\": \"London\", \"lat\": 51.507351, \"lon\": -0.127758},\n",
        "    {\"name\": \"Rome\", \"lat\": 41.902783, \"lon\": 12.496366},\n",
        "    {\"name\": \"Amsterdam\", \"lat\": 52.367573, \"lon\": 4.904139},\n",
        "    {\"name\": \"Berlin\", \"lat\": 52.520008, \"lon\": 13.404954},\n",
        "    {\"name\": \"Prague\", \"lat\": 50.075539, \"lon\": 14.437800},\n",
        "    {\"name\": \"Vienna\", \"lat\": 48.210033, \"lon\": 16.363449},\n",
        "    {\"name\": \"Madrid\", \"lat\": 40.416775, \"lon\": -3.703790},\n",
        "    {\"name\": \"Lisbon\", \"lat\": 38.716667, \"lon\": -9.139089},\n",
        "    {\"name\": \"Stockholm\", \"lat\": 59.329323, \"lon\": 18.068581},\n",
        "    {\"name\": \"Copenhagen\", \"lat\": 55.676098, \"lon\": 12.568337},\n",
        "    {\"name\": \"Dublin\", \"lat\": 53.349805, \"lon\": -6.260310},\n",
        "    {\"name\": \"Brussels\", \"lat\": 50.850346, \"lon\": 4.351721},\n",
        "    {\"name\": \"Budapest\", \"lat\": 47.497913, \"lon\": 19.040236},\n",
        "    {\"name\": \"Istanbul\", \"lat\": 41.008240, \"lon\": 28.978359},\n",
        "    {\"name\": \"Athens\", \"lat\": 37.983810, \"lon\": 23.727539},\n",
        "    {\"name\": \"Helsinki\", \"lat\": 60.169856, \"lon\": 24.938379},\n",
        "    {\"name\": \"Warsaw\", \"lat\": 52.229676, \"lon\": 21.012229},\n",
        "    {\"name\": \"Oslo\", \"lat\": 59.913868, \"lon\": 10.752245},\n",
        "]\n",
        "\n",
        "st.map(map_data)\n",
        "\n",
        "# Initialize session state variables if they don't exist\n",
        "if 'restart' not in st.session_state:\n",
        "    st.session_state.restart = False\n",
        "if 'messages' not in st.session_state:\n",
        "    st.session_state.messages = []\n",
        "\n",
        "col1, col2 = st.columns(2)\n",
        "\n",
        "# Button to end the conversation\n",
        "with col1:\n",
        "    if st.button(\"End Conversation\"):\n",
        "        st.session_state.messages.clear()\n",
        "        st.write(\"Ending the conversation. Goodbye!\")\n",
        "\n",
        "# Button to restart the conversation\n",
        "with col2:\n",
        "    if st.button(\"Restart Conversation\"):\n",
        "        # Set the flag to restart the conversation\n",
        "        st.session_state.restart = True\n",
        "\n",
        "# If restart flag is True, reset the messages and update state\n",
        "if st.session_state.restart:\n",
        "    st.session_state.messages = []  # Clear conversation history\n",
        "    st.session_state.restart = False  # Reset restart flag to prevent continuous reruns\n",
        "    st.write(\"Conversation restarted. How can I help you today?\")\n",
        "\n",
        "# Initialise chat history\n",
        "# Chat history saves the previous messages to be displayed\n",
        "if \"messages\" not in st.session_state:\n",
        "    st.session_state.messages = []\n",
        "\n",
        "# Display chat messages from history on app rerun\n",
        "for message in st.session_state.messages:\n",
        "    with st.chat_message(message[\"role\"]):\n",
        "        st.markdown(message[\"content\"])\n",
        "\n",
        "# React to user input\n",
        "if prompt := st.chat_input(\"Curious minds wanted!\"):\n",
        "\n",
        "    # Display user message in chat message container\n",
        "    st.chat_message(\"human\").markdown(prompt)\n",
        "\n",
        "    # Add user message to chat history\n",
        "    st.session_state.messages.append({\"role\": \"human\", \"content\": prompt})\n",
        "\n",
        "    # Begin spinner before answering question so it's there for the duration\n",
        "    with st.spinner(\"Diving deep to uncover the truth...\"):\n",
        "\n",
        "        # send question to chain to get answer\n",
        "        answer = rag_bot.invoke(\n",
        "            {\"input\": prompt, \"chat_history\": st.session_state.messages, \"context\": retriever}, \n",
        "            stop=[\"\\nHuman:\", \"\\nAssistant:\"], \n",
        "            temperature=0.8, top_p=0.9\n",
        "            )\n",
        "\n",
        "        # extract answer from dictionary returned by chain\n",
        "        response = answer[\"answer\"]\n",
        "\n",
        "        # Display chatbot response in chat message container\n",
        "        with st.chat_message(\"assistant\"):\n",
        "            st.markdown(response)\n",
        "\n",
        "        # Add assistant response to chat history\n",
        "        st.session_state.messages.append({\"role\": \"assistant\", \"content\":  response})"
      ]
    },
    {
      "cell_type": "markdown",
      "metadata": {},
      "source": [
        "We wrote the above code in a .py file in the same folder and run the following code:"
      ]
    },
    {
      "cell_type": "code",
      "execution_count": 59,
      "metadata": {},
      "outputs": [],
      "source": [
        "#Local:\n",
        "%run RAG_Chatbot_combined.py"
      ]
    },
    {
      "cell_type": "markdown",
      "metadata": {
        "id": "mfFUtIHsvT0R"
      },
      "source": [
        "Now, let's see what we've made."
      ]
    },
    {
      "cell_type": "markdown",
      "metadata": {
        "id": "7yI-wIxqvXNh"
      },
      "source": [
        "### Local"
      ]
    },
    {
      "cell_type": "markdown",
      "metadata": {
        "id": "v-01iMLrvZ2-"
      },
      "source": [
        "Run this code in a terminal, following the caveats as laid out previously.\n",
        "```\n",
        "streamlit run rag_app.py\n",
        "```"
      ]
    },
    {
      "cell_type": "code",
      "execution_count": 7,
      "metadata": {},
      "outputs": [],
      "source": [
        "#Run this code in a terminal: \n",
        "#Note: First check the address in terminal\n",
        "# streamlit run RAG_Chatbot_combined.py"
      ]
    },
    {
      "cell_type": "markdown",
      "metadata": {
        "id": "LI67cONgvbLH"
      },
      "source": [
        "### Colab"
      ]
    },
    {
      "cell_type": "code",
      "execution_count": 1,
      "metadata": {
        "colab": {
          "base_uri": "https://localhost:8080/",
          "height": 104
        },
        "id": "ElqDKShcvfT2",
        "outputId": "3edeaccb-0123-4b68-c4f6-773efa976781"
      },
      "outputs": [],
      "source": [
        "#tunnel_prep()"
      ]
    },
    {
      "cell_type": "code",
      "execution_count": 52,
      "metadata": {
        "id": "FyLtwwUcvhgM"
      },
      "outputs": [],
      "source": [
        "#!streamlit run rag_app.py &>/content/logs.txt &"
      ]
    }
  ],
  "metadata": {
    "colab": {
      "provenance": []
    },
    "kernelspec": {
      "display_name": "base",
      "language": "python",
      "name": "python3"
    },
    "language_info": {
      "codemirror_mode": {
        "name": "ipython",
        "version": 3
      },
      "file_extension": ".py",
      "mimetype": "text/x-python",
      "name": "python",
      "nbconvert_exporter": "python",
      "pygments_lexer": "ipython3",
      "version": "3.12.7"
    }
  },
  "nbformat": 4,
  "nbformat_minor": 0
}
